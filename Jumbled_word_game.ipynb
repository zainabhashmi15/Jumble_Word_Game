{
 "cells": [
  {
   "cell_type": "code",
   "execution_count": null,
   "id": "9bbe3bf5",
   "metadata": {
    "scrolled": true
   },
   "outputs": [
    {
     "name": "stdout",
     "output_type": "stream",
     "text": [
      "welcome to jumble word game!!!!\n",
      "enter your name : zainab\n",
      "your jumbled word is :  ynotph\n",
      "enter your guess: python\n",
      "You have entered:  python\n",
      "Your Score is : 10\n",
      "your guessed word is correct. you won!!!!!!\n",
      "press 0 to quit and 1 to continue...1\n",
      "your jumbled word is :  rneubm\n",
      "enter your guess: 0\n",
      "You have entered:  0\n",
      "Wrong guess... try again\n",
      "Remaining tries 2\n"
     ]
    }
   ],
   "source": [
    "print('welcome to jumble word game!!!!')\n",
    "\n",
    "import random\n",
    "\n",
    "word=['secret','python','mean','jupyter','math','probability','number','guess','life','science','datascience','statistics','median',\n",
    "     'mode','fisher','sql']\n",
    "\n",
    "player=str(input('enter your name : '))\n",
    "\n",
    "        \n",
    "score=0      #for scoreing the score\n",
    "attempt=0       #for scoreing the no. of failed attempts\n",
    " \n",
    "try:\n",
    "    while True:\n",
    "    \n",
    "        theword = word[random.randrange(len(word))]\n",
    "        theword\n",
    "\n",
    "        templist = list(theword)\n",
    "        random.shuffle(templist)\n",
    "        show_word=''.join(templist)\n",
    "        show_word\n",
    "        print(\"your jumbled word is : \",show_word)\n",
    "    \n",
    "        while  attempt<3:\n",
    "            entered_word = input(\"enter your guess: \").lower()\n",
    "            print('You have entered: ' , entered_word)\n",
    "            pick=random.choice(word)\n",
    "\n",
    "            if entered_word == theword:\n",
    "                score += 10\n",
    "                print(\"Your Score is :\", score)\n",
    "                print(\"your guessed word is correct.\",\"you won!!!!!!\")\n",
    "                break\n",
    "            else:\n",
    "                print(\"Wrong guess... try again\")\n",
    "                attempt +=1\n",
    "                print(\"Remaining tries\",3-attempt)\n",
    "                continue\n",
    "        if attempt==3:\n",
    "            print(\"limit exceed.....start a new game\")\n",
    "\n",
    "        z = int(input('press 0 to quit and 1 to continue...'))\n",
    "\n",
    "    \n",
    "        if z == 0:\n",
    "            print(player, \"Thankyou for playing\")\n",
    "            break\n",
    "        else:\n",
    "            attempt = 0\n",
    "            continue\n",
    "except:\n",
    "    print(\"enter 0 to quit or 1 to continue\")\n"
   ]
  },
  {
   "cell_type": "code",
   "execution_count": null,
   "id": "9630cb7c",
   "metadata": {},
   "outputs": [],
   "source": []
  },
  {
   "cell_type": "code",
   "execution_count": null,
   "id": "68265ea6",
   "metadata": {},
   "outputs": [],
   "source": []
  }
 ],
 "metadata": {
  "kernelspec": {
   "display_name": "Python 3 (ipykernel)",
   "language": "python",
   "name": "python3"
  },
  "language_info": {
   "codemirror_mode": {
    "name": "ipython",
    "version": 3
   },
   "file_extension": ".py",
   "mimetype": "text/x-python",
   "name": "python",
   "nbconvert_exporter": "python",
   "pygments_lexer": "ipython3",
   "version": "3.9.13"
  }
 },
 "nbformat": 4,
 "nbformat_minor": 5
}
